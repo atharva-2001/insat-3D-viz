{
 "cells": [
  {
   "cell_type": "code",
   "execution_count": null,
   "id": "cb6283e1",
   "metadata": {
    "ExecuteTime": {
     "end_time": "2022-04-22T07:11:31.606577Z",
     "start_time": "2022-04-22T07:11:31.604232Z"
    }
   },
   "outputs": [],
   "source": [
    "import h5py\n",
    "import numpy as np\n",
    "import plotly.express as px\n",
    "import plotly.graph_objects as go\n"
   ]
  },
  {
   "cell_type": "code",
   "execution_count": null,
   "id": "df34d7c0",
   "metadata": {
    "ExecuteTime": {
     "end_time": "2022-04-22T07:11:32.238105Z",
     "start_time": "2022-04-22T07:11:32.229968Z"
    }
   },
   "outputs": [],
   "source": [
    "insat_data = h5py.File('3DIMG_01APR2022_0600_L1B_STD.h5', 'r')"
   ]
  },
  {
   "cell_type": "code",
   "execution_count": null,
   "id": "593f7a89",
   "metadata": {
    "ExecuteTime": {
     "end_time": "2022-04-22T07:11:32.561316Z",
     "start_time": "2022-04-22T07:11:32.556559Z"
    }
   },
   "outputs": [],
   "source": [
    "# data.close()"
   ]
  },
  {
   "cell_type": "code",
   "execution_count": null,
   "id": "a06180af",
   "metadata": {
    "ExecuteTime": {
     "end_time": "2022-04-22T07:11:38.065686Z",
     "start_time": "2022-04-22T07:11:33.132844Z"
    },
    "scrolled": true
   },
   "outputs": [],
   "source": [
    "for item in list(insat_data.keys()):\n",
    "    print(item, np.array(insat_data[item]).shape)"
   ]
  },
  {
   "cell_type": "code",
   "execution_count": null,
   "id": "961893f1",
   "metadata": {
    "ExecuteTime": {
     "end_time": "2022-04-22T07:11:43.197814Z",
     "start_time": "2022-04-22T07:11:39.331675Z"
    }
   },
   "outputs": [],
   "source": [
    "# fig = px.imshow(\n",
    "#     np.array(insat_data['IMG_MIR'][0])\n",
    "# )\n",
    "# fig.update_layout(height=750, width=750)\n",
    "# fig"
   ]
  },
  {
   "cell_type": "code",
   "execution_count": null,
   "id": "ed649ca6",
   "metadata": {
    "ExecuteTime": {
     "end_time": "2022-04-21T11:24:28.840118Z",
     "start_time": "2022-04-21T11:24:28.689041Z"
    }
   },
   "outputs": [],
   "source": [
    "print(f\"IMG_MIR shape: {np.array(insat_data['IMG_MIR']).shape}\")\n",
    "print(f\"Latitude shape: {np.array(insat_data['Latitude']).shape}\")\n",
    "print(f\"Longitude shape: {np.array(insat_data['Longitude']).shape}\")"
   ]
  },
  {
   "cell_type": "code",
   "execution_count": null,
   "id": "e1d6def2",
   "metadata": {
    "ExecuteTime": {
     "end_time": "2022-04-21T11:24:28.981447Z",
     "start_time": "2022-04-21T11:24:28.912888Z"
    }
   },
   "outputs": [],
   "source": [
    "np.array(insat_data['IMG_MIR'])"
   ]
  },
  {
   "cell_type": "code",
   "execution_count": null,
   "id": "63770e97",
   "metadata": {
    "ExecuteTime": {
     "end_time": "2022-04-22T07:11:55.646002Z",
     "start_time": "2022-04-22T07:11:55.628368Z"
    }
   },
   "outputs": [],
   "source": [
    "np.deg2rad(np.array(insat_data['Latitude_WV']))\n",
    "def get_cartesian(lat=None,lon=None):\n",
    "    lat, lon = np.deg2rad(lat), np.deg2rad(lon)\n",
    "    print(lat.shape, lon.shape)\n",
    "    R = 6371 # radius of the earth\n",
    "    x = R * np.cos(lat) * np.cos(lon)\n",
    "    y = R * np.cos(lat) * np.sin(lon)\n",
    "    z = R *np.sin(lat)\n",
    "    return x[::10000],y[::10000],z[::10000]"
   ]
  },
  {
   "cell_type": "code",
   "execution_count": null,
   "id": "39dd4ebc",
   "metadata": {
    "ExecuteTime": {
     "end_time": "2022-04-22T07:11:56.707013Z",
     "start_time": "2022-04-22T07:11:56.660038Z"
    },
    "scrolled": true
   },
   "outputs": [],
   "source": [
    "np.deg2rad(np.array(insat_data['Latitude_WV']))"
   ]
  },
  {
   "cell_type": "code",
   "execution_count": null,
   "id": "b4450379",
   "metadata": {
    "ExecuteTime": {
     "end_time": "2022-04-22T07:11:58.132342Z",
     "start_time": "2022-04-22T07:11:58.028712Z"
    }
   },
   "outputs": [],
   "source": [
    "import numpy as np\n",
    "v = np.array(insat_data['IMG_MIR']).flatten()\n",
    "normalized_v = v / np.sqrt(np.sum(v**2))\n",
    "normalized_v *= 1000000\n",
    "normalized_v\n"
   ]
  },
  {
   "cell_type": "code",
   "execution_count": null,
   "id": "1a2c42d6",
   "metadata": {
    "ExecuteTime": {
     "end_time": "2022-04-22T07:11:59.419359Z",
     "start_time": "2022-04-22T07:11:59.417539Z"
    }
   },
   "outputs": [],
   "source": [
    "# %pylab \n",
    "# %matplotlib inline\n",
    "# plt.hist(normalized_v)"
   ]
  },
  {
   "cell_type": "code",
   "execution_count": null,
   "id": "3e3ddae0",
   "metadata": {
    "ExecuteTime": {
     "end_time": "2022-04-22T07:12:00.064156Z",
     "start_time": "2022-04-22T07:11:59.860277Z"
    }
   },
   "outputs": [],
   "source": [
    "x,y,z = get_cartesian(np.array(insat_data['Latitude']).flatten(), np.array(insat_data['Longitude']).flatten())\n",
    "\n",
    "# fig = go.Figure(data=[go.Scatter3d(x=x, y=y, z=z,\n",
    "#                                    marker=dict(\n",
    "#                                         color='LightSkyBlue',\n",
    "#                                         size=1,\n",
    "# #                                         line=dict(\n",
    "# #                                             color='MediumPurple',\n",
    "# #                                             width=2\n",
    "# #                                         )\n",
    "#                                     ),\n",
    "#                                    mode='markers')])\n",
    "# # fig.update_layout(height=750, width=750)\n",
    "# fig.show()"
   ]
  },
  {
   "cell_type": "code",
   "execution_count": null,
   "id": "69e46ca1",
   "metadata": {
    "ExecuteTime": {
     "end_time": "2022-04-22T07:12:01.598582Z",
     "start_time": "2022-04-22T07:12:01.588624Z"
    }
   },
   "outputs": [],
   "source": [
    "x.shape"
   ]
  },
  {
   "cell_type": "code",
   "execution_count": null,
   "id": "33fea7f6",
   "metadata": {
    "ExecuteTime": {
     "end_time": "2022-04-22T07:12:01.970127Z",
     "start_time": "2022-04-22T07:12:01.960837Z"
    }
   },
   "outputs": [],
   "source": [
    "np.square(2)"
   ]
  },
  {
   "cell_type": "code",
   "execution_count": null,
   "id": "f75b4bb3",
   "metadata": {
    "ExecuteTime": {
     "end_time": "2022-04-22T07:12:03.039065Z",
     "start_time": "2022-04-22T07:12:02.984364Z"
    }
   },
   "outputs": [],
   "source": [
    "norm_d = normalized_v[::10000]\n",
    "xd,yd,zd = [],[],[]\n",
    "for xc,yc,zc, norm, in zip(x,y,z, norm_d):\n",
    "    den = np.sqrt(xc**2+yc**2+zc**2)\n",
    "    tmp_x = (np.abs(xc)+norm*(np.abs(xc)/den)) * np.sign(xc)\n",
    "    tmp_y = (np.abs(yc)+norm*(np.abs(yc)/den)) * np.sign(yc)\n",
    "    tmp_z = (np.abs(zc)+norm*(np.abs(zc)/den)) * np.sign(zc)\n",
    "#     print(tmp_x,)\n",
    "    xd.append(tmp_x)\n",
    "    yd.append(tmp_y)\n",
    "    zd.append(tmp_z)\n",
    "# xc,yd,zd = [np.array(item) for item in zip(zd,yd,zd)]"
   ]
  },
  {
   "cell_type": "code",
   "execution_count": null,
   "id": "65d8d831",
   "metadata": {
    "ExecuteTime": {
     "end_time": "2022-04-22T07:12:03.894597Z",
     "start_time": "2022-04-22T07:12:03.884389Z"
    }
   },
   "outputs": [],
   "source": [
    "np.array(xd).shape"
   ]
  },
  {
   "cell_type": "code",
   "execution_count": null,
   "id": "9c053ec7",
   "metadata": {
    "ExecuteTime": {
     "end_time": "2022-04-22T07:12:04.271015Z",
     "start_time": "2022-04-22T07:12:04.265505Z"
    }
   },
   "outputs": [],
   "source": [
    "# fig = go.Figure()\n",
    "\n",
    "# # Add traces\n",
    "# # fig.add_trace(go.Scatter(x=x, y=y,\n",
    "# #                     mode='markers',\n",
    "# #                     name='markers'))\n",
    "# fig.add_trace(go.Scatter(x=xd, y=yd,\n",
    "#                     mode='markers',\n",
    "#                     name='markers'))\n",
    "# fig"
   ]
  },
  {
   "cell_type": "code",
   "execution_count": null,
   "id": "5b3a2f01",
   "metadata": {
    "ExecuteTime": {
     "end_time": "2022-04-22T07:12:11.998295Z",
     "start_time": "2022-04-22T07:12:05.319439Z"
    }
   },
   "outputs": [],
   "source": [
    "import urllib.request, json\n",
    "# url = \"http://maps.googleapis.com/maps/api/geocode/json?address=google\"\n",
    "url = \"https://raw.githubusercontent.com/Nov05/playground-fireball/master/data/earth.json\"\n",
    "response = urllib.request.urlopen(url)\n",
    "json_data = json.loads(response.read())"
   ]
  },
  {
   "cell_type": "code",
   "execution_count": null,
   "id": "37fab4e2",
   "metadata": {
    "ExecuteTime": {
     "end_time": "2022-04-22T07:12:15.527794Z",
     "start_time": "2022-04-22T07:12:15.518385Z"
    }
   },
   "outputs": [],
   "source": [
    "# 纬线 Parallels\n",
    "# x0 = json_data['data'][0]['x']\n",
    "# y0 = json_data['data'][0]['y']\n",
    "# z0 = json_data['data'][0]['z']\n",
    "# len(x0)\n",
    "# 经线 Meridians\n",
    "# x1 = json_data['data'][1]['x']\n",
    "# y1 = json_data['data'][1]['y']\n",
    "# z1 = json_data['data'][1]['z']\n",
    "# len(x1)\n",
    "# # blue base (dots)\n",
    "# x2 = json_data['data'][2]['x']\n",
    "# y2 = json_data['data'][2]['y']\n",
    "# z2 = json_data['data'][2]['z']\n",
    "# len(x2)\n",
    "# # white continents (lines)\n",
    "x3 = json_data['data'][3]['x']\n",
    "y3 = json_data['data'][3]['y']\n",
    "z3 = json_data['data'][3]['z']\n",
    "# len(x3)"
   ]
  },
  {
   "cell_type": "code",
   "execution_count": null,
   "id": "5d351a32",
   "metadata": {
    "ExecuteTime": {
     "end_time": "2022-04-22T07:12:16.120608Z",
     "start_time": "2022-04-22T07:12:16.009597Z"
    }
   },
   "outputs": [],
   "source": [
    "import matplotlib.cm as cm\n",
    "import matplotlib as mpl\n",
    "import matplotlib.colors as clr\n",
    "def transition_colors(length=10, name=\"Reds\"):\n",
    "    \"\"\"\n",
    "    Create colorscale for convergence plots, returns a list of colors.\n",
    "    Parameters\n",
    "    ----------\n",
    "    length : int\n",
    "        The length of the colorscale.\n",
    "    name : string, default: 'jet', optional\n",
    "        Name of the colorscale.\n",
    "    Returns\n",
    "    -------\n",
    "    colors: list\n",
    "    \"\"\"\n",
    "    cmap = mpl.cm.get_cmap(name, length)\n",
    "    colors = []\n",
    "    for i in range(cmap.N):\n",
    "        rgb = cmap(i)[:3]\n",
    "        colors.append(mpl.colors.rgb2hex(rgb))\n",
    "    return colors\n",
    "transition_colors(length=10)"
   ]
  },
  {
   "cell_type": "code",
   "execution_count": null,
   "id": "1934d589",
   "metadata": {
    "ExecuteTime": {
     "end_time": "2022-04-22T07:12:25.322601Z",
     "start_time": "2022-04-22T07:12:25.099988Z"
    }
   },
   "outputs": [],
   "source": [
    "traces = []\n",
    "for xc,yc,zc, xcd, ycd, zcd, norm in zip(x,y,z,xd,yd,zd, norm_d):\n",
    "    tmp_trace = go.Scatter3d(\n",
    "    x=[xc,xcd],\n",
    "    y=[yc,ycd],\n",
    "    z=[zc,zcd],\n",
    "    mode='lines',\n",
    "    marker=dict(\n",
    "        size=10,\n",
    "        color=norm,  \n",
    "        colorscale='Viridis',\n",
    "        showscale=False,\n",
    "#         line=dict(width=1, color=color_land)\n",
    "        ),\n",
    "\n",
    "    showlegend=False,\n",
    "    name='land'\n",
    "    )\n",
    "    traces.append(tmp_trace)"
   ]
  },
  {
   "cell_type": "code",
   "execution_count": null,
   "id": "556d76bb",
   "metadata": {
    "ExecuteTime": {
     "end_time": "2022-04-22T07:12:26.804779Z",
     "start_time": "2022-04-22T07:12:26.794857Z"
    }
   },
   "outputs": [],
   "source": [
    "len(traces)"
   ]
  },
  {
   "cell_type": "code",
   "execution_count": null,
   "id": "72d56c3e",
   "metadata": {
    "ExecuteTime": {
     "end_time": "2022-04-22T07:13:13.819857Z",
     "start_time": "2022-04-22T07:13:13.763052Z"
    }
   },
   "outputs": [],
   "source": [
    "color_background = 'black'\n",
    "color_lines = 'darkblue' # Parallels and Meridians\n",
    "color_base = 'darkblue'\n",
    "color_land = 'whitesmoke'\n",
    "opacity_base = 0.1\n",
    "opacity_land = 0.8\n",
    "size_lines = 1\n",
    "\n",
    "# Parallels \n",
    "# trace0 = go.Scatter3d(\n",
    "#     x=x0,\n",
    "#     y=y0,\n",
    "#     z=z0,\n",
    "#     mode='lines',\n",
    "#     marker=dict(\n",
    "#         size=size_lines,\n",
    "#         color=color_lines, # set color to an array/list of desired values \n",
    "#         opacity=opacity_base,\n",
    "#         showscale=False,\n",
    "#         line=dict(\n",
    "#             width=size_lines, \n",
    "#             color=color_base)\n",
    "#         ),\n",
    "#     showlegend=False,\n",
    "#     name='Parallel'\n",
    "#     )\n",
    "# Meridians\n",
    "trace1 = go.Scatter3d(\n",
    "    x=x1,\n",
    "    y=y1,\n",
    "    z=z1,\n",
    "    mode='lines',\n",
    "    marker=dict(\n",
    "        size=size_lines,\n",
    "        color=color_lines,  \n",
    "        opacity=opacity_base,\n",
    "        showscale=False,\n",
    "        line=dict(\n",
    "            width=size_lines, \n",
    "            color=color_base,)\n",
    "        ),\n",
    "    showlegend=False,\n",
    "    name='Meridian'\n",
    "    )\n",
    "# # base surface (dots)\n",
    "# trace2 = go.Scatter3d(\n",
    "#     x=x2,\n",
    "#     y=y2,\n",
    "#     z=z2,\n",
    "#     mode='markers',\n",
    "#     marker=dict(\n",
    "#         size=2,\n",
    "#         color=color_base,  \n",
    "#         opacity=opacity_base,\n",
    "#         showscale=False,\n",
    "#         line=dict(width=1, color=color_base)\n",
    "#         ),\n",
    "#     showlegend=False,\n",
    "#     name='by Wenjing Liu',\n",
    "#     )\n",
    "# land\n",
    "trace3 = go.Scatter3d(\n",
    "    x=x3,\n",
    "    y=y3,\n",
    "    z=z3,\n",
    "    mode='lines',\n",
    "    marker=dict(\n",
    "        size=1,\n",
    "        color=color_land,  \n",
    "        opacity=opacity_land,\n",
    "        showscale=False,\n",
    "        line=dict(width=1, color=color_land)\n",
    "        ),\n",
    "    showlegend=False,\n",
    "    name='land'\n",
    "    )\n",
    "\n",
    "trace4 = go.Scatter3d(\n",
    "    x=x,\n",
    "    y=y,\n",
    "    z=z,\n",
    "    mode='markers',\n",
    "    marker=dict(\n",
    "        size=1,\n",
    "        color=color_land,  \n",
    "        opacity=opacity_land,\n",
    "        showscale=False,\n",
    "#         line=dict(width=1, color=color_land)\n",
    "        ),\n",
    "    showlegend=False,\n",
    "    name='land'\n",
    "    )\n",
    "\n",
    "# trace5 = go.Scatter3d(\n",
    "#     x=x,\n",
    "#     y=y,\n",
    "#     z=z,\n",
    "#     mode='markers',\n",
    "#     marker=dict(\n",
    "#         size=1,\n",
    "# #         color=color_land,  \n",
    "# #         opacity=opacity_land,\n",
    "#         showscale=False,\n",
    "# #         line=dict(width=1, color=color_land)\n",
    "#         ),\n",
    "#     showlegend=False,\n",
    "#     name='land'\n",
    "#     )\n",
    "data = [\n",
    "#     trace0, \n",
    "    trace1, \n",
    "#     trace2, \n",
    "    trace3,\n",
    "    trace4\n",
    "]\n",
    "\n",
    "data.extend(traces)\n",
    "\n",
    "layout = go.Layout(\n",
    "    autosize=False,\n",
    "    width=1300,\n",
    "    height=800,\n",
    "    margin=dict(\n",
    "        l=0,\n",
    "        r=0,\n",
    "        b=0,\n",
    "        t=0\n",
    "    ),\n",
    "    title=dict(\n",
    "        text='title',\n",
    "        x=0.015, y=0.95),\n",
    "    scene=dict(\n",
    "        xaxis=dict(\n",
    "            title=\"x axis\",\n",
    "#             color=color_background,\n",
    "#             backgroundcolor=color_background,\n",
    "            showaxeslabels=False,\n",
    "            showline=False,\n",
    "            showgrid=False,\n",
    "            zeroline=False,\n",
    "            ),\n",
    "        yaxis=dict(\n",
    "            title=\"y axis\",\n",
    "#             color=color_background,\n",
    "#             backgroundcolor=color_background,\n",
    "            showaxeslabels=False,\n",
    "            showline=False,\n",
    "            showgrid=False,\n",
    "            zeroline=False,\n",
    "            ),\n",
    "        zaxis=dict(\n",
    "            title=\"z axis\",\n",
    "#             color=color_background, \n",
    "#             backgroundcolor=color_background,\n",
    "            showaxeslabels=False,\n",
    "            showline=False,\n",
    "            showgrid=False,\n",
    "            zeroline=False,\n",
    "            ),\n",
    "        ),\n",
    "#     paper_bgcolor=color_background,\n",
    "#     plot_bgcolor=color_background,\n",
    ")\n",
    "fig = go.Figure(data=data, layout=layout)\n",
    "# fig.show()\n",
    "fig.write_html('mir.html')"
   ]
  },
  {
   "cell_type": "code",
   "execution_count": null,
   "id": "ed72c295",
   "metadata": {
    "ExecuteTime": {
     "end_time": "2022-04-21T11:25:46.099036Z",
     "start_time": "2022-04-21T11:25:46.096138Z"
    }
   },
   "outputs": [],
   "source": [
    "9"
   ]
  },
  {
   "cell_type": "code",
   "execution_count": null,
   "id": "c85c6e08",
   "metadata": {},
   "outputs": [],
   "source": []
  }
 ],
 "metadata": {
  "kernelspec": {
   "display_name": "Python 3",
   "language": "python",
   "name": "python3"
  },
  "language_info": {
   "codemirror_mode": {
    "name": "ipython",
    "version": 3
   },
   "file_extension": ".py",
   "mimetype": "text/x-python",
   "name": "python",
   "nbconvert_exporter": "python",
   "pygments_lexer": "ipython3",
   "version": "3.7.12"
  },
  "varInspector": {
   "cols": {
    "lenName": 16,
    "lenType": 16,
    "lenVar": 40
   },
   "kernels_config": {
    "python": {
     "delete_cmd_postfix": "",
     "delete_cmd_prefix": "del ",
     "library": "var_list.py",
     "varRefreshCmd": "print(var_dic_list())"
    },
    "r": {
     "delete_cmd_postfix": ") ",
     "delete_cmd_prefix": "rm(",
     "library": "var_list.r",
     "varRefreshCmd": "cat(var_dic_list()) "
    }
   },
   "types_to_exclude": [
    "module",
    "function",
    "builtin_function_or_method",
    "instance",
    "_Feature"
   ],
   "window_display": false
  }
 },
 "nbformat": 4,
 "nbformat_minor": 5
}
